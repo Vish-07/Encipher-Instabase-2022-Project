{
  "nbformat": 4,
  "nbformat_minor": 0,
  "metadata": {
    "colab": {
      "name": "Encipher-final.ipynb",
      "provenance": []
    },
    "kernelspec": {
      "name": "python3",
      "display_name": "Python 3"
    },
    "language_info": {
      "name": "python"
    }
  },
  "cells": [
    {
      "cell_type": "code",
      "source": [
        "from __future__ import absolute_import, division, print_function, unicode_literals\n",
        "import tensorflow as tf\n",
        "import os\n",
        "import datetime\n",
        "import tensorflow_hub as hub\n",
        "import numpy as np\n",
        "\n",
        "import pandas as pd\n",
        "from sklearn.model_selection import train_test_split"
      ],
      "metadata": {
        "id": "eN0c1InPH6i6"
      },
      "execution_count": null,
      "outputs": []
    },
    {
      "cell_type": "code",
      "source": [
        "from google.colab import drive\n",
        "drive.mount(\"/content/drive/\")"
      ],
      "metadata": {
        "colab": {
          "base_uri": "https://localhost:8080/"
        },
        "id": "u1jidfmbJWZ7",
        "outputId": "5df35099-793b-44e8-a802-8f149dd84dbf"
      },
      "execution_count": null,
      "outputs": [
        {
          "output_type": "stream",
          "name": "stdout",
          "text": [
            "Mounted at /content/drive/\n"
          ]
        }
      ]
    },
    {
      "cell_type": "code",
      "source": [
        "df = pd.read_csv('/content/drive/MyDrive/Encipher/train2.csv')"
      ],
      "metadata": {
        "id": "TZJhN0mNJ4x6"
      },
      "execution_count": null,
      "outputs": []
    },
    {
      "cell_type": "code",
      "source": [
        "df.columns\n",
        "#Filling all missing values with 0\n",
        "df = df.fillna('Other')"
      ],
      "metadata": {
        "id": "xBRjf-SOoH4a"
      },
      "execution_count": null,
      "outputs": []
    },
    {
      "cell_type": "code",
      "source": [
        "# 20% is test size and 80% is train size\n",
        "X_train, X_test = train_test_split(df, test_size=0.2, random_state=111)"
      ],
      "metadata": {
        "id": "8ad0AKlkol01"
      },
      "execution_count": null,
      "outputs": []
    },
    {
      "cell_type": "code",
      "source": [
        "# Counting no of agreements of different types and plotting\n",
        "import matplotlib.pyplot as plt\n",
        "\n",
        "df['Type'].value_counts()\n",
        "plt.hist(df['Type'], bins=10)\n",
        "plt.gca().set(title='Frequency Histogram', ylabel='Frequency');"
      ],
      "metadata": {
        "colab": {
          "base_uri": "https://localhost:8080/",
          "height": 281
        },
        "id": "oazh0syCo09p",
        "outputId": "23192a01-c1e5-466b-f5e2-cfb0f40f2fd4"
      },
      "execution_count": null,
      "outputs": [
        {
          "output_type": "display_data",
          "data": {
            "image/png": "[encoded data removed]",
            "text/plain": [
              "<Figure size 432x288 with 1 Axes>"
            ]
          },
          "metadata": {
            "needs_background": "light"
          }
        }
      ]
    },
    {
      "cell_type": "code",
      "source": [
        "from sklearn.utils import class_weight\n",
        "# Computing class weights using 'balance' as method and passing target column as Type\n",
        "class_weights = list(class_weight.compute_class_weight(class_weight = 'balanced',classes = np.unique(df['Type']),y = df['Type']))"
      ],
      "metadata": {
        "id": "_30-r5e6pF6W"
      },
      "execution_count": null,
      "outputs": []
    },
    {
      "cell_type": "code",
      "source": [
        "# Classes which are in higher number will be assigned lower weights and vice versa\n",
        "class_weights.sort()\n",
        "class_weights"
      ],
      "metadata": {
        "colab": {
          "base_uri": "https://localhost:8080/"
        },
        "id": "ATQPX1fGq21L",
        "outputId": "ecd4a5d6-96a2-49df-99ad-59a17a429ba1"
      },
      "execution_count": null,
      "outputs": [
        {
          "output_type": "execute_result",
          "data": {
            "text/plain": [
              "[0.8666666666666667, 0.975, 0.975, 0.975, 1.3]"
            ]
          },
          "metadata": {},
          "execution_count": 8
        }
      ]
    },
    {
      "cell_type": "code",
      "source": [
        "# As keras model expects weights as a dictionary object, so converting list to dictionary\n",
        "weights = {}\n",
        "for index, weight in enumerate(class_weights):\n",
        "  weights[index] = weight\n",
        "weights"
      ],
      "metadata": {
        "colab": {
          "base_uri": "https://localhost:8080/"
        },
        "id": "Q5qgTWRfrBz4",
        "outputId": "cf3aa83e-e5b7-43c2-c7c4-be90b81b239b"
      },
      "execution_count": null,
      "outputs": [
        {
          "output_type": "execute_result",
          "data": {
            "text/plain": [
              "{0: 0.8666666666666667, 1: 0.975, 2: 0.975, 3: 0.975, 4: 1.3}"
            ]
          },
          "metadata": {},
          "execution_count": 58
        }
      ]
    },
    {
      "cell_type": "code",
      "source": [
        "# Dataset from pandas is converted to tensorflow tensor\n",
        "dataset_train = tf.data.Dataset.from_tensor_slices((X_train['Agreement'].values, X_train['Type'].values))\n",
        "dataset_test = tf.data.Dataset.from_tensor_slices((X_test['Agreement'].values, X_test['Type'].values))"
      ],
      "metadata": {
        "id": "2Gmj5jbErlsv"
      },
      "execution_count": null,
      "outputs": []
    },
    {
      "cell_type": "code",
      "source": [
        "# Printing dataset in batch of 5 (for train data)\n",
        "for text, target in dataset_train.take(5):\n",
        "  print('Complaint: {}, Target: {}'.format(text, target))"
      ],
      "metadata": {
        "colab": {
          "base_uri": "https://localhost:8080/"
        },
        "id": "n7nkRC2srl1-",
        "outputId": "ac0e16d2-8e90-4a4f-c062-b90f4595b17e"
      },
      "execution_count": null,
      "outputs": [
        {
          "output_type": "stream",
          "name": "stdout",
          "text": [
            "Complaint: b'\\xe2\\x80\\x9cAcceptance Condition\\xe2\\x80\\x9d means the condition with respect to the number of acceptances to the Offer which must be secured to declare the Offer unconditional as to acceptances which shall not be less than 90% of the Target Shares to which the Offer relates.', Target: b'Other'\n",
            "Complaint: b'The Borrower shall indemnify all parties, and each Related Party of any of the foregoing Persons (each such Person being called an \\xe2\\x80\\x9cIndemnitee\\xe2\\x80\\x9d) against, and hold each Indemnitee harmless from, any and all losses, claims, damages, liabilities and related expenses', Target: b'Indemnification'\n",
            "Complaint: b'This agreement is dated 22 December 2014 and made between Parties XYZ Gold Mining Company Limited, The Subsidiaries of the Borrower listed in Part I of Schedule 1 as original guarantors, Absa Bank Limited and Nedbank Limited as coordinators, The Financial Institutions listed in Part II of Schedule 1 as mandated lead arrangers and lenders and Nedbank Limited as agent of the other Finance Parties', Target: b'Preamble'\n",
            "Complaint: b'The Lenders agree to indemnify the Administrative Agent and the Collateral Agent, each in its capacity as such (to the extent not reimbursed by the Borrowers and without limiting the obligation of the Borrowers to do so), ratably according to their respective portions of the total Term Loans and Incremental Revolving Facility Commitments.', Target: b'Indemnification'\n",
            "Complaint: b'Lender shall be deemed to be a Defaulting Lender as of the date established therefore by the Administrative Agent is subject to debtor relief law terms', Target: b'Lender Defaulting'\n"
          ]
        }
      ]
    },
    {
      "cell_type": "code",
      "source": [
        "# Printing test data\n",
        "for text, target in dataset_test.take(5):\n",
        "  print('Complaint: {}, Target: {}'.format(text, target))"
      ],
      "metadata": {
        "colab": {
          "base_uri": "https://localhost:8080/"
        },
        "id": "yBC-DW4QsT6G",
        "outputId": "79782ef2-a8fa-4417-f051-1315c6486b84"
      },
      "execution_count": null,
      "outputs": [
        {
          "output_type": "stream",
          "name": "stdout",
          "text": [
            "Complaint: b'This agreement is dated 22 December 2014 and made between Parties XYZ Gold Mining Company Limited, The Subsidiaries of the Borrower listed in Part I of Schedule 1 as original guarantors, Absa Bank Limited and Nedbank Limited as coordinators, The Financial Institutions listed in Part II of Schedule 1 as mandated lead arrangers and lenders and Nedbank Limited as agent of the other Finance Parties', Target: b'Preamble'\n",
            "Complaint: b'\\xe2\\x80\\x9cApplicable Rate\\xe2\\x80\\x9d means, the following percentages per annum, based upon the Consolidated Leverage Ratio as set forth in the most recent Compliance Certificate received by the Administrative Agent', Target: b'Other'\n",
            "Complaint: b'The Borrower shall indemnify all parties, and each Related Party of any of the foregoing Persons (each such Person being called an \\xe2\\x80\\x9cIndemnitee\\xe2\\x80\\x9d) against, and hold each Indemnitee harmless from, any and all losses, claims, damages, liabilities and related expenses', Target: b'Indemnification'\n",
            "Complaint: b'This agreement and other loan documents shall be governed by and in adherence with the law of the United Kingdom.', Target: b'Governing Law'\n",
            "Complaint: b'This CREDIT AGREEMENT is made and entered into as of March 6, 2018, by and among XYZ Corp, a Wisconsin corporation as Borrower and SSB BANK USA, in its capacity as collateral agent and BSB BANK PLC, in its capacity as administrative agent for and on behalf of the Lenders', Target: b'Preamble'\n"
          ]
        }
      ]
    },
    {
      "cell_type": "code",
      "source": [
        "# To convert target column into numerical representation\n",
        "table = tf.lookup.StaticHashTable(\n",
        "    initializer = tf.lookup.KeyValueTensorInitializer(\n",
        "        keys = tf.constant(['Preamble', 'Other', 'Indemnification', 'Governing Law', 'Lender Defaulting']),\n",
        "        values = tf.constant([0, 1, 2, 3, 4])\n",
        "    ),\n",
        "    default_value = tf.constant(-1),\n",
        "    name = \"target_encoding\"\n",
        ")\n",
        "\n",
        "# Tensorflow function to do table lookup()Ex. for Preamble it will return 0\n",
        "def target(x):\n",
        "  return table.lookup(x)"
      ],
      "metadata": {
        "id": "arA5apfXsdp5"
      },
      "execution_count": null,
      "outputs": []
    },
    {
      "cell_type": "code",
      "source": [
        "# Function to see how data looks like\n",
        "def show_batch(dataset, size = 5):\n",
        "  for batch, label in dataset.take(size):\n",
        "    print(batch.numpy())\n",
        "    # Here it will call target function and return integer\n",
        "    print(target(label).numpy())"
      ],
      "metadata": {
        "id": "agUCBeZbtfRl"
      },
      "execution_count": null,
      "outputs": []
    },
    {
      "cell_type": "code",
      "source": [
        "show_batch(dataset_test, 5)"
      ],
      "metadata": {
        "colab": {
          "base_uri": "https://localhost:8080/"
        },
        "id": "_2rs64ePtuUr",
        "outputId": "bf02774b-1008-4353-d07d-a01431a188ce"
      },
      "execution_count": null,
      "outputs": [
        {
          "output_type": "stream",
          "name": "stdout",
          "text": [
            "b'This agreement is dated 22 December 2014 and made between Parties XYZ Gold Mining Company Limited, The Subsidiaries of the Borrower listed in Part I of Schedule 1 as original guarantors, Absa Bank Limited and Nedbank Limited as coordinators, The Financial Institutions listed in Part II of Schedule 1 as mandated lead arrangers and lenders and Nedbank Limited as agent of the other Finance Parties'\n",
            "0\n",
            "b'\\xe2\\x80\\x9cApplicable Rate\\xe2\\x80\\x9d means, the following percentages per annum, based upon the Consolidated Leverage Ratio as set forth in the most recent Compliance Certificate received by the Administrative Agent'\n",
            "1\n",
            "b'The Borrower shall indemnify all parties, and each Related Party of any of the foregoing Persons (each such Person being called an \\xe2\\x80\\x9cIndemnitee\\xe2\\x80\\x9d) against, and hold each Indemnitee harmless from, any and all losses, claims, damages, liabilities and related expenses'\n",
            "2\n",
            "b'This agreement and other loan documents shall be governed by and in adherence with the law of the United Kingdom.'\n",
            "3\n",
            "b'This CREDIT AGREEMENT is made and entered into as of March 6, 2018, by and among XYZ Corp, a Wisconsin corporation as Borrower and SSB BANK USA, in its capacity as collateral agent and BSB BANK PLC, in its capacity as administrative agent for and on behalf of the Lenders'\n",
            "0\n"
          ]
        }
      ]
    },
    {
      "cell_type": "code",
      "source": [
        "# One-hot encoding value of target\n",
        "def fetch(text, labels):\n",
        "  return text, tf.one_hot(target(labels),5)"
      ],
      "metadata": {
        "id": "4jeN_u-4uHr7"
      },
      "execution_count": null,
      "outputs": []
    },
    {
      "cell_type": "code",
      "source": [
        "# In train and test data, target c0lumn are going to get converted into numerical and one hot encoded\n",
        "train_data_f = dataset_train.map(fetch)\n",
        "test_data_f = dataset_test.map(fetch)"
      ],
      "metadata": {
        "id": "89Nfu0L3uUb4"
      },
      "execution_count": null,
      "outputs": []
    },
    {
      "cell_type": "code",
      "source": [
        "# Printing value in batch of 5, (print batched tensor value)\n",
        "train_data, train_labels = next(iter(train_data_f.batch(5)))\n",
        "train_data, train_labels"
      ],
      "metadata": {
        "colab": {
          "base_uri": "https://localhost:8080/"
        },
        "id": "HbL5MgGNunTn",
        "outputId": "d422869e-53cf-4581-d48d-fb35a8acc514"
      },
      "execution_count": null,
      "outputs": [
        {
          "output_type": "execute_result",
          "data": {
            "text/plain": [
              "(<tf.Tensor: shape=(5,), dtype=string, numpy=\n",
              " array([b'\\xe2\\x80\\x9cAcceptance Condition\\xe2\\x80\\x9d means the condition with respect to the number of acceptances to the Offer which must be secured to declare the Offer unconditional as to acceptances which shall not be less than 90% of the Target Shares to which the Offer relates.',\n",
              "        b'The Borrower shall indemnify all parties, and each Related Party of any of the foregoing Persons (each such Person being called an \\xe2\\x80\\x9cIndemnitee\\xe2\\x80\\x9d) against, and hold each Indemnitee harmless from, any and all losses, claims, damages, liabilities and related expenses',\n",
              "        b'This agreement is dated 22 December 2014 and made between Parties XYZ Gold Mining Company Limited, The Subsidiaries of the Borrower listed in Part I of Schedule 1 as original guarantors, Absa Bank Limited and Nedbank Limited as coordinators, The Financial Institutions listed in Part II of Schedule 1 as mandated lead arrangers and lenders and Nedbank Limited as agent of the other Finance Parties',\n",
              "        b'The Lenders agree to indemnify the Administrative Agent and the Collateral Agent, each in its capacity as such (to the extent not reimbursed by the Borrowers and without limiting the obligation of the Borrowers to do so), ratably according to their respective portions of the total Term Loans and Incremental Revolving Facility Commitments.',\n",
              "        b'Lender shall be deemed to be a Defaulting Lender as of the date established therefore by the Administrative Agent is subject to debtor relief law terms'],\n",
              "       dtype=object)>, <tf.Tensor: shape=(5, 5), dtype=float32, numpy=\n",
              " array([[0., 1., 0., 0., 0.],\n",
              "        [0., 0., 1., 0., 0.],\n",
              "        [1., 0., 0., 0., 0.],\n",
              "        [0., 0., 1., 0., 0.],\n",
              "        [0., 0., 0., 0., 1.]], dtype=float32)>)"
            ]
          },
          "metadata": {},
          "execution_count": 19
        }
      ]
    },
    {
      "cell_type": "code",
      "source": [
        "# Creating a embedding layer, taking pretrained embedding from tensorflow\n",
        "embedding = \"https://tfhub.dev/google/nnlm-en-dim128/2\"\n",
        "hub_layer = hub.KerasLayer(embedding, output_shape=[128], input_shape=[], dtype=tf.string, trainable=True)\n",
        "hub_layer(train_data[:1])"
      ],
      "metadata": {
        "colab": {
          "base_uri": "https://localhost:8080/"
        },
        "id": "vSSiPFDfu3iw",
        "outputId": "67ba2162-d19f-4ce1-a394-3760721e9700"
      },
      "execution_count": null,
      "outputs": [
        {
          "output_type": "execute_result",
          "data": {
            "text/plain": [
              "<tf.Tensor: shape=(1, 128), dtype=float32, numpy=\n",
              "array([[ 9.05634582e-01,  8.44805017e-02,  9.75493640e-02,\n",
              "         1.22876972e-01,  6.86208680e-02,  8.90760198e-02,\n",
              "        -3.17467079e-02,  1.51430488e-01,  3.77125777e-02,\n",
              "         8.19774419e-02,  1.95255429e-01,  9.77621600e-02,\n",
              "         8.51709172e-02, -8.41268077e-02, -9.39441845e-03,\n",
              "        -4.68816273e-02, -1.45099953e-01,  1.31754339e-01,\n",
              "        -2.11709186e-01,  7.56165981e-01,  1.86482057e-01,\n",
              "         1.15941636e-01, -9.06292349e-02,  3.03071309e-02,\n",
              "         2.64328886e-02,  1.78374544e-01, -7.82951787e-02,\n",
              "         4.42925617e-02, -1.93234488e-01, -5.12457045e-04,\n",
              "         1.38617024e-01, -5.50562032e-02,  4.34877723e-02,\n",
              "        -1.72113910e-01, -1.37691736e-01,  1.46489516e-01,\n",
              "        -1.72132820e-01, -9.21033695e-02, -1.46835268e-01,\n",
              "         6.45596161e-02,  1.87525339e-02,  4.62956121e-03,\n",
              "        -1.37142912e-01, -2.82380402e-01,  5.30879013e-02,\n",
              "         6.41505495e-02,  7.77157769e-02, -5.26625551e-02,\n",
              "        -6.89621791e-02, -4.00401771e-01,  2.64834911e-01,\n",
              "        -7.87214488e-02,  1.82756603e-01, -1.54701695e-01,\n",
              "        -2.70334512e-01, -1.02491425e-02,  3.90462540e-02,\n",
              "        -2.86424793e-02, -7.12809935e-02,  7.04323128e-02,\n",
              "        -1.72717601e-01,  1.38417631e-01, -1.80533275e-01,\n",
              "         1.65198296e-02, -1.64440706e-01,  1.87244907e-01,\n",
              "         3.79371457e-02,  4.60848436e-02,  2.24427268e-01,\n",
              "        -7.19693750e-02,  1.40794486e-01, -1.11443020e-01,\n",
              "        -8.41199681e-02, -6.12171367e-02, -5.90002276e-02,\n",
              "         4.56425874e-03, -9.46123898e-02, -3.34872663e-01,\n",
              "         1.70387805e-01,  4.71564718e-02,  1.52239457e-01,\n",
              "         1.24380298e-01, -8.73489827e-02,  1.16579488e-01,\n",
              "         7.82577246e-02, -2.56654918e-01, -3.01257253e-01,\n",
              "        -5.74747957e-02,  5.13277292e-01, -5.09073362e-02,\n",
              "        -3.34198296e-01,  1.07336141e-01,  3.03195044e-02,\n",
              "        -4.30222675e-02,  1.92602322e-01,  1.19805805e-01,\n",
              "        -4.62657176e-02, -1.63994640e-01, -1.56895936e-01,\n",
              "         2.65038431e-01, -1.97278127e-01,  1.81992039e-01,\n",
              "         1.11691602e-01,  1.51880860e-01,  2.47086268e-02,\n",
              "         8.05897117e-02,  2.48899199e-02, -3.49956125e-01,\n",
              "         2.24949997e-02, -1.81178614e-01, -1.99096292e-01,\n",
              "        -3.43621880e-01, -4.91036177e-02, -1.01072058e-01,\n",
              "         9.58490297e-02,  1.19631879e-01, -7.37740621e-02,\n",
              "        -1.20025456e-01, -1.06084356e-02, -3.95172089e-02,\n",
              "         2.67735403e-02, -1.22298717e-01, -6.24684356e-02,\n",
              "        -1.19314574e-01, -1.43151805e-01, -6.36446401e-02,\n",
              "        -6.19219765e-02,  2.72638828e-01]], dtype=float32)>"
            ]
          },
          "metadata": {},
          "execution_count": 20
        }
      ]
    },
    {
      "cell_type": "code",
      "source": [
        "# Creating the keras sequential model\n",
        "model = tf.keras.Sequential()\n",
        "# Adding the embedding layer to model\n",
        "model.add(hub_layer)\n",
        "# Adding 128, 128, 64, 32- 4 hidden layer\n",
        "for units in [128, 128, 64, 32]:\n",
        "  model.add(tf.keras.layers.Dense(units, activation = 'relu'))\n",
        "  model.add(tf.keras.layers.Dropout(0.3))\n",
        "# Adding output layer, 5 classes\n",
        "model.add(tf.keras.layers.Dense(5, activation = 'softmax'))\n",
        "\n",
        "model.summary()"
      ],
      "metadata": {
        "colab": {
          "base_uri": "https://localhost:8080/"
        },
        "id": "2EuwwrfVu3pK",
        "outputId": "66e41ec9-6ae1-4343-9a1b-62e1071536a7"
      },
      "execution_count": null,
      "outputs": [
        {
          "output_type": "stream",
          "name": "stdout",
          "text": [
            "Model: \"sequential_4\"\n",
            "_________________________________________________________________\n",
            " Layer (type)                Output Shape              Param #   \n",
            "=================================================================\n",
            " keras_layer (KerasLayer)    (None, 128)               124642688 \n",
            "                                                                 \n",
            " dense_8 (Dense)             (None, 128)               16512     \n",
            "                                                                 \n",
            " dropout_6 (Dropout)         (None, 128)               0         \n",
            "                                                                 \n",
            " dense_9 (Dense)             (None, 128)               16512     \n",
            "                                                                 \n",
            " dropout_7 (Dropout)         (None, 128)               0         \n",
            "                                                                 \n",
            " dense_10 (Dense)            (None, 64)                8256      \n",
            "                                                                 \n",
            " dropout_8 (Dropout)         (None, 64)                0         \n",
            "                                                                 \n",
            " dense_11 (Dense)            (None, 32)                2080      \n",
            "                                                                 \n",
            " dropout_9 (Dropout)         (None, 32)                0         \n",
            "                                                                 \n",
            " dense_12 (Dense)            (None, 5)                 165       \n",
            "                                                                 \n",
            "=================================================================\n",
            "Total params: 124,686,213\n",
            "Trainable params: 124,686,213\n",
            "Non-trainable params: 0\n",
            "_________________________________________________________________\n"
          ]
        }
      ]
    },
    {
      "cell_type": "code",
      "source": [
        "# Compiling the model, giving metrics as accuracy\n",
        "model.compile(optimizer='adam', loss=tf.keras.losses.CategoricalCrossentropy(from_logits=True),\n",
        "              metrics=['accuracy'])"
      ],
      "metadata": {
        "id": "4NLhCMdtwQRb"
      },
      "execution_count": null,
      "outputs": []
    },
    {
      "cell_type": "code",
      "source": [
        "# Shuffling the training data and batching it\n",
        "train_data_f=train_data_f.shuffle(70).batch(5)\n",
        "test_data_f=test_data_f.batch(5)"
      ],
      "metadata": {
        "id": "rsankfaFwgl7"
      },
      "execution_count": null,
      "outputs": []
    },
    {
      "cell_type": "code",
      "source": [
        "# Training the data - 16 epochs\n",
        "history=model.fit(train_data_f,\n",
        "                  epochs=16,\n",
        "                  validation_data=test_data_f,\n",
        "                  verbose=1,\n",
        "                  class_weight=weights)"
      ],
      "metadata": {
        "colab": {
          "base_uri": "https://localhost:8080/"
        },
        "id": "zghAl9Xpwy4w",
        "outputId": "c0a82bcb-694e-480a-9cd8-2ba716161db2"
      },
      "execution_count": null,
      "outputs": [
        {
          "output_type": "stream",
          "name": "stdout",
          "text": [
            "Epoch 1/16\n"
          ]
        },
        {
          "output_type": "stream",
          "name": "stderr",
          "text": [
            "/usr/local/lib/python3.7/dist-packages/tensorflow/python/util/dispatch.py:1096: UserWarning: \"`categorical_crossentropy` received `from_logits=True`, but the `output` argument was produced by a sigmoid or softmax activation and thus does not represent logits. Was this intended?\"\n",
            "  return dispatch_target(*args, **kwargs)\n"
          ]
        },
        {
          "output_type": "stream",
          "name": "stdout",
          "text": [
            "7/7 [==============================] - 11s 1s/step - loss: 1.6677 - accuracy: 0.1935 - val_loss: 1.5484 - val_accuracy: 0.5000\n",
            "Epoch 2/16\n",
            "7/7 [==============================] - 9s 1s/step - loss: 1.6228 - accuracy: 0.2258 - val_loss: 1.5489 - val_accuracy: 0.5000\n",
            "Epoch 3/16\n",
            "7/7 [==============================] - 9s 1s/step - loss: 1.5904 - accuracy: 0.2581 - val_loss: 1.5213 - val_accuracy: 0.7500\n",
            "Epoch 4/16\n",
            "7/7 [==============================] - 9s 1s/step - loss: 1.6067 - accuracy: 0.2258 - val_loss: 1.5009 - val_accuracy: 0.8750\n",
            "Epoch 5/16\n",
            "7/7 [==============================] - 9s 1s/step - loss: 1.4906 - accuracy: 0.5806 - val_loss: 1.4642 - val_accuracy: 0.8750\n",
            "Epoch 6/16\n",
            "7/7 [==============================] - 9s 1s/step - loss: 1.4800 - accuracy: 0.4194 - val_loss: 1.4243 - val_accuracy: 0.7500\n",
            "Epoch 7/16\n",
            "7/7 [==============================] - 9s 1s/step - loss: 1.4565 - accuracy: 0.5484 - val_loss: 1.3518 - val_accuracy: 0.7500\n",
            "Epoch 8/16\n",
            "7/7 [==============================] - 9s 1s/step - loss: 1.3775 - accuracy: 0.5484 - val_loss: 1.2378 - val_accuracy: 0.8750\n",
            "Epoch 9/16\n",
            "7/7 [==============================] - 9s 1s/step - loss: 1.3744 - accuracy: 0.3871 - val_loss: 1.0745 - val_accuracy: 1.0000\n",
            "Epoch 10/16\n",
            "7/7 [==============================] - 9s 1s/step - loss: 1.1902 - accuracy: 0.6774 - val_loss: 0.9454 - val_accuracy: 0.8750\n",
            "Epoch 11/16\n",
            "7/7 [==============================] - 9s 1s/step - loss: 1.1615 - accuracy: 0.5806 - val_loss: 0.8212 - val_accuracy: 1.0000\n",
            "Epoch 12/16\n",
            "7/7 [==============================] - 9s 1s/step - loss: 0.9553 - accuracy: 0.7419 - val_loss: 0.6848 - val_accuracy: 1.0000\n",
            "Epoch 13/16\n",
            "7/7 [==============================] - 9s 1s/step - loss: 0.9208 - accuracy: 0.7097 - val_loss: 0.6168 - val_accuracy: 0.8750\n",
            "Epoch 14/16\n",
            "7/7 [==============================] - 9s 1s/step - loss: 0.7309 - accuracy: 0.7742 - val_loss: 0.5511 - val_accuracy: 0.7500\n",
            "Epoch 15/16\n",
            "7/7 [==============================] - 9s 1s/step - loss: 0.6960 - accuracy: 0.8387 - val_loss: 0.5680 - val_accuracy: 0.7500\n",
            "Epoch 16/16\n",
            "7/7 [==============================] - 9s 1s/step - loss: 0.6354 - accuracy: 0.7742 - val_loss: 0.4625 - val_accuracy: 0.8750\n"
          ]
        }
      ]
    },
    {
      "cell_type": "code",
      "source": [
        "# Printing results of the model\n",
        "results = model.evaluate(dataset_test.map(fetch).batch(11491), verbose = 2)\n",
        "print(results)"
      ],
      "metadata": {
        "colab": {
          "base_uri": "https://localhost:8080/"
        },
        "id": "-IuA3BNwx-bH",
        "outputId": "fce049bb-ffe1-460d-ce18-ecfc9e9c0217"
      },
      "execution_count": null,
      "outputs": [
        {
          "output_type": "stream",
          "name": "stdout",
          "text": [
            "1/1 - 0s - loss: 0.4625 - accuracy: 0.8750 - 176ms/epoch - 176ms/step\n",
            "[0.4625293016433716, 0.875]\n"
          ]
        }
      ]
    },
    {
      "cell_type": "code",
      "source": [
        "# Working with test data - for predictions\n",
        "test_data, test_labels = next(iter(dataset_test.map(fetch).batch(8)))\n",
        "test_data, test_labels"
      ],
      "metadata": {
        "id": "jUfNEwOByKdL",
        "colab": {
          "base_uri": "https://localhost:8080/"
        },
        "outputId": "a6808304-4869-4081-f415-8ac18b62ff02"
      },
      "execution_count": null,
      "outputs": [
        {
          "output_type": "execute_result",
          "data": {
            "text/plain": [
              "(<tf.Tensor: shape=(8,), dtype=string, numpy=\n",
              " array([b'This agreement is dated 22 December 2014 and made between Parties XYZ Gold Mining Company Limited, The Subsidiaries of the Borrower listed in Part I of Schedule 1 as original guarantors, Absa Bank Limited and Nedbank Limited as coordinators, The Financial Institutions listed in Part II of Schedule 1 as mandated lead arrangers and lenders and Nedbank Limited as agent of the other Finance Parties',\n",
              "        b'\\xe2\\x80\\x9cApplicable Rate\\xe2\\x80\\x9d means, the following percentages per annum, based upon the Consolidated Leverage Ratio as set forth in the most recent Compliance Certificate received by the Administrative Agent',\n",
              "        b'The Borrower shall indemnify all parties, and each Related Party of any of the foregoing Persons (each such Person being called an \\xe2\\x80\\x9cIndemnitee\\xe2\\x80\\x9d) against, and hold each Indemnitee harmless from, any and all losses, claims, damages, liabilities and related expenses',\n",
              "        b'This agreement and other loan documents shall be governed by and in adherence with the law of the United Kingdom.',\n",
              "        b'This CREDIT AGREEMENT is made and entered into as of March 6, 2018, by and among XYZ Corp, a Wisconsin corporation as Borrower and SSB BANK USA, in its capacity as collateral agent and BSB BANK PLC, in its capacity as administrative agent for and on behalf of the Lenders',\n",
              "        b'The Lenders agree to indemnify the Administrative Agent and the Collateral Agent, each in its capacity as such (to the extent not reimbursed by the Borrowers and without limiting the obligation of the Borrowers to do so), ratably according to their respective portions of the total Term Loans and Incremental Revolving Facility Commitments.',\n",
              "        b'Administrative Agent shall be entitled to reimbursement of its reasonable out-of-pocket expenses incurred hereunder and indemnity for its actions',\n",
              "        b'Eligible receivables are not subject to any limitation on assignment or other restriction which would, under the local governing law of the contract creating such receivable, have the effect of restricting the assignment for or by way of security or the creation of security over such receivable generally;'],\n",
              "       dtype=object)>, <tf.Tensor: shape=(8, 5), dtype=float32, numpy=\n",
              " array([[1., 0., 0., 0., 0.],\n",
              "        [0., 1., 0., 0., 0.],\n",
              "        [0., 0., 1., 0., 0.],\n",
              "        [0., 0., 0., 1., 0.],\n",
              "        [1., 0., 0., 0., 0.],\n",
              "        [0., 0., 1., 0., 0.],\n",
              "        [0., 0., 1., 0., 0.],\n",
              "        [0., 1., 0., 0., 0.]], dtype=float32)>)"
            ]
          },
          "metadata": {},
          "execution_count": 27
        }
      ]
    },
    {
      "cell_type": "code",
      "source": [
        "y_pred=model.predict(test_data)\n",
        "y_pred"
      ],
      "metadata": {
        "id": "HPw38XVQyZ5T",
        "colab": {
          "base_uri": "https://localhost:8080/"
        },
        "outputId": "c57ffc37-8ac3-4672-9c7d-dcfa84899be5"
      },
      "execution_count": null,
      "outputs": [
        {
          "output_type": "execute_result",
          "data": {
            "text/plain": [
              "array([[9.1167969e-01, 2.5686121e-03, 8.4152430e-02, 5.3146924e-04,\n",
              "        1.0679412e-03],\n",
              "       [3.2707900e-02, 4.2400700e-01, 5.1019926e-02, 1.6539334e-01,\n",
              "        3.2687181e-01],\n",
              "       [5.5188742e-02, 1.7293198e-03, 9.4102991e-01, 9.4560388e-04,\n",
              "        1.1064311e-03],\n",
              "       [3.7733510e-02, 1.4422439e-01, 6.0924113e-02, 5.8182353e-01,\n",
              "        1.7529444e-01],\n",
              "       [8.9942753e-01, 3.9142147e-03, 9.4879486e-02, 6.8498123e-04,\n",
              "        1.0937912e-03],\n",
              "       [2.1037427e-01, 6.7310794e-03, 7.7576655e-01, 2.0217095e-03,\n",
              "        5.1064566e-03],\n",
              "       [6.1757665e-02, 8.0382554e-03, 9.2017359e-01, 3.9253435e-03,\n",
              "        6.1050579e-03],\n",
              "       [2.8617071e-02, 1.8189955e-01, 7.9577215e-02, 2.3585679e-01,\n",
              "        4.7404933e-01]], dtype=float32)"
            ]
          },
          "metadata": {},
          "execution_count": 28
        }
      ]
    },
    {
      "cell_type": "code",
      "source": [
        "from sklearn.metrics import classification_report"
      ],
      "metadata": {
        "id": "omGFph0dygEB"
      },
      "execution_count": null,
      "outputs": []
    },
    {
      "cell_type": "code",
      "source": [
        "print(classification_report(test_labels.numpy().argmax(axis=1),y_pred.argmax(axis=1)))"
      ],
      "metadata": {
        "colab": {
          "base_uri": "https://localhost:8080/"
        },
        "id": "zyIXXGJJzPk-",
        "outputId": "8b0a3417-32e9-4c1d-e2c2-b1274ce92f38"
      },
      "execution_count": null,
      "outputs": [
        {
          "output_type": "stream",
          "name": "stdout",
          "text": [
            "              precision    recall  f1-score   support\n",
            "\n",
            "           0       1.00      1.00      1.00         2\n",
            "           1       1.00      0.50      0.67         2\n",
            "           2       1.00      1.00      1.00         3\n",
            "           3       1.00      1.00      1.00         1\n",
            "           4       0.00      0.00      0.00         0\n",
            "\n",
            "    accuracy                           0.88         8\n",
            "   macro avg       0.80      0.70      0.73         8\n",
            "weighted avg       1.00      0.88      0.92         8\n",
            "\n"
          ]
        },
        {
          "output_type": "stream",
          "name": "stderr",
          "text": [
            "/usr/local/lib/python3.7/dist-packages/sklearn/metrics/_classification.py:1318: UndefinedMetricWarning: Recall and F-score are ill-defined and being set to 0.0 in labels with no true samples. Use `zero_division` parameter to control this behavior.\n",
            "  _warn_prf(average, modifier, msg_start, len(result))\n",
            "/usr/local/lib/python3.7/dist-packages/sklearn/metrics/_classification.py:1318: UndefinedMetricWarning: Recall and F-score are ill-defined and being set to 0.0 in labels with no true samples. Use `zero_division` parameter to control this behavior.\n",
            "  _warn_prf(average, modifier, msg_start, len(result))\n",
            "/usr/local/lib/python3.7/dist-packages/sklearn/metrics/_classification.py:1318: UndefinedMetricWarning: Recall and F-score are ill-defined and being set to 0.0 in labels with no true samples. Use `zero_division` parameter to control this behavior.\n",
            "  _warn_prf(average, modifier, msg_start, len(result))\n"
          ]
        }
      ]
    },
    {
      "cell_type": "code",
      "source": [
        "from sklearn.metrics import confusion_matrix\n",
        "confusion_matrix(test_labels.numpy().argmax(axis=1), y_pred.argmax(axis=1))"
      ],
      "metadata": {
        "colab": {
          "base_uri": "https://localhost:8080/"
        },
        "id": "tif5GDFrzVqQ",
        "outputId": "a88ade3a-4bea-4068-ee57-6d1cc66b1ae7"
      },
      "execution_count": null,
      "outputs": [
        {
          "output_type": "execute_result",
          "data": {
            "text/plain": [
              "array([[2, 0, 0, 0, 0],\n",
              "       [0, 1, 0, 0, 1],\n",
              "       [0, 0, 3, 0, 0],\n",
              "       [0, 0, 0, 1, 0],\n",
              "       [0, 0, 0, 0, 0]])"
            ]
          },
          "metadata": {},
          "execution_count": 31
        }
      ]
    },
    {
      "cell_type": "code",
      "source": [
        "test_data = pd.read_csv('/content/drive/MyDrive/Encipher/test.csv')\n",
        "test_data"
      ],
      "metadata": {
        "colab": {
          "base_uri": "https://localhost:8080/",
          "height": 363
        },
        "id": "BKIOkEaapR8p",
        "outputId": "ed2a5dfb-ffc1-468e-a93a-b0fc8cb0f8ba"
      },
      "execution_count": null,
      "outputs": [
        {
          "output_type": "execute_result",
          "data": {
            "text/html": [
              "\n",
              "  <div id=\"df-76720b46-b8cf-44b4-88cf-1a751c144dbc\">\n",
              "    <div class=\"colab-df-container\">\n",
              "      <div>\n",
              "<style scoped>\n",
              "    .dataframe tbody tr th:only-of-type {\n",
              "        vertical-align: middle;\n",
              "    }\n",
              "\n",
              "    .dataframe tbody tr th {\n",
              "        vertical-align: top;\n",
              "    }\n",
              "\n",
              "    .dataframe thead th {\n",
              "        text-align: right;\n",
              "    }\n",
              "</style>\n",
              "<table border=\"1\" class=\"dataframe\">\n",
              "  <thead>\n",
              "    <tr style=\"text-align: right;\">\n",
              "      <th></th>\n",
              "      <th>Id</th>\n",
              "      <th>Agreement</th>\n",
              "    </tr>\n",
              "  </thead>\n",
              "  <tbody>\n",
              "    <tr>\n",
              "      <th>0</th>\n",
              "      <td>1</td>\n",
              "      <td>Amendment No. 1 dated as of February 4, 2016 (...</td>\n",
              "    </tr>\n",
              "    <tr>\n",
              "      <th>1</th>\n",
              "      <td>2</td>\n",
              "      <td>Subject to the Legal Reservations, (a) the cho...</td>\n",
              "    </tr>\n",
              "    <tr>\n",
              "      <th>2</th>\n",
              "      <td>3</td>\n",
              "      <td>This Agreement, and any non-contractual obliga...</td>\n",
              "    </tr>\n",
              "    <tr>\n",
              "      <th>3</th>\n",
              "      <td>4</td>\n",
              "      <td>Each Lender agrees to indemnify the Administra...</td>\n",
              "    </tr>\n",
              "    <tr>\n",
              "      <th>4</th>\n",
              "      <td>5</td>\n",
              "      <td>Any Lender that (a) has failed to (i) fund all...</td>\n",
              "    </tr>\n",
              "    <tr>\n",
              "      <th>5</th>\n",
              "      <td>6</td>\n",
              "      <td>This Assignment and Assumption shall be govern...</td>\n",
              "    </tr>\n",
              "    <tr>\n",
              "      <th>6</th>\n",
              "      <td>7</td>\n",
              "      <td>As soon as practicable after any payment of In...</td>\n",
              "    </tr>\n",
              "    <tr>\n",
              "      <th>7</th>\n",
              "      <td>8</td>\n",
              "      <td>Non-Defaulting Lender means, at any time, each...</td>\n",
              "    </tr>\n",
              "    <tr>\n",
              "      <th>8</th>\n",
              "      <td>9</td>\n",
              "      <td>Fundco Facility Agreement means the facility a...</td>\n",
              "    </tr>\n",
              "    <tr>\n",
              "      <th>9</th>\n",
              "      <td>10</td>\n",
              "      <td>Notwithstanding any provision of this Agreemen...</td>\n",
              "    </tr>\n",
              "  </tbody>\n",
              "</table>\n",
              "</div>\n",
              "      <button class=\"colab-df-convert\" onclick=\"convertToInteractive('df-76720b46-b8cf-44b4-88cf-1a751c144dbc')\"\n",
              "              title=\"Convert this dataframe to an interactive table.\"\n",
              "              style=\"display:none;\">\n",
              "        \n",
              "  <svg xmlns=\"http://www.w3.org/2000/svg\" height=\"24px\"viewBox=\"0 0 24 24\"\n",
              "       width=\"24px\">\n",
              "    <path d=\"M0 0h24v24H0V0z\" fill=\"none\"/>\n",
              "    <path d=\"M18.56 5.44l.94 2.06.94-2.06 2.06-.94-2.06-.94-.94-2.06-.94 2.06-2.06.94zm-11 1L8.5 8.5l.94-2.06 2.06-.94-2.06-.94L8.5 2.5l-.94 2.06-2.06.94zm10 10l.94 2.06.94-2.06 2.06-.94-2.06-.94-.94-2.06-.94 2.06-2.06.94z\"/><path d=\"M17.41 7.96l-1.37-1.37c-.4-.4-.92-.59-1.43-.59-.52 0-1.04.2-1.43.59L10.3 9.45l-7.72 7.72c-.78.78-.78 2.05 0 2.83L4 21.41c.39.39.9.59 1.41.59.51 0 1.02-.2 1.41-.59l7.78-7.78 2.81-2.81c.8-.78.8-2.07 0-2.86zM5.41 20L4 18.59l7.72-7.72 1.47 1.35L5.41 20z\"/>\n",
              "  </svg>\n",
              "      </button>\n",
              "      \n",
              "  <style>\n",
              "    .colab-df-container {\n",
              "      display:flex;\n",
              "      flex-wrap:wrap;\n",
              "      gap: 12px;\n",
              "    }\n",
              "\n",
              "    .colab-df-convert {\n",
              "      background-color: #E8F0FE;\n",
              "      border: none;\n",
              "      border-radius: 50%;\n",
              "      cursor: pointer;\n",
              "      display: none;\n",
              "      fill: #1967D2;\n",
              "      height: 32px;\n",
              "      padding: 0 0 0 0;\n",
              "      width: 32px;\n",
              "    }\n",
              "\n",
              "    .colab-df-convert:hover {\n",
              "      background-color: #E2EBFA;\n",
              "      box-shadow: 0px 1px 2px rgba(60, 64, 67, 0.3), 0px 1px 3px 1px rgba(60, 64, 67, 0.15);\n",
              "      fill: #174EA6;\n",
              "    }\n",
              "\n",
              "    [theme=dark] .colab-df-convert {\n",
              "      background-color: #3B4455;\n",
              "      fill: #D2E3FC;\n",
              "    }\n",
              "\n",
              "    [theme=dark] .colab-df-convert:hover {\n",
              "      background-color: #434B5C;\n",
              "      box-shadow: 0px 1px 3px 1px rgba(0, 0, 0, 0.15);\n",
              "      filter: drop-shadow(0px 1px 2px rgba(0, 0, 0, 0.3));\n",
              "      fill: #FFFFFF;\n",
              "    }\n",
              "  </style>\n",
              "\n",
              "      <script>\n",
              "        const buttonEl =\n",
              "          document.querySelector('#df-76720b46-b8cf-44b4-88cf-1a751c144dbc button.colab-df-convert');\n",
              "        buttonEl.style.display =\n",
              "          google.colab.kernel.accessAllowed ? 'block' : 'none';\n",
              "\n",
              "        async function convertToInteractive(key) {\n",
              "          const element = document.querySelector('#df-76720b46-b8cf-44b4-88cf-1a751c144dbc');\n",
              "          const dataTable =\n",
              "            await google.colab.kernel.invokeFunction('convertToInteractive',\n",
              "                                                     [key], {});\n",
              "          if (!dataTable) return;\n",
              "\n",
              "          const docLinkHtml = 'Like what you see? Visit the ' +\n",
              "            '<a target=\"_blank\" href=https://colab.research.google.com/notebooks/data_table.ipynb>data table notebook</a>'\n",
              "            + ' to learn more about interactive tables.';\n",
              "          element.innerHTML = '';\n",
              "          dataTable['output_type'] = 'display_data';\n",
              "          await google.colab.output.renderOutput(dataTable, element);\n",
              "          const docLink = document.createElement('div');\n",
              "          docLink.innerHTML = docLinkHtml;\n",
              "          element.appendChild(docLink);\n",
              "        }\n",
              "      </script>\n",
              "    </div>\n",
              "  </div>\n",
              "  "
            ],
            "text/plain": [
              "   Id                                          Agreement\n",
              "0   1  Amendment No. 1 dated as of February 4, 2016 (...\n",
              "1   2  Subject to the Legal Reservations, (a) the cho...\n",
              "2   3  This Agreement, and any non-contractual obliga...\n",
              "3   4  Each Lender agrees to indemnify the Administra...\n",
              "4   5  Any Lender that (a) has failed to (i) fund all...\n",
              "5   6  This Assignment and Assumption shall be govern...\n",
              "6   7  As soon as practicable after any payment of In...\n",
              "7   8  Non-Defaulting Lender means, at any time, each...\n",
              "8   9  Fundco Facility Agreement means the facility a...\n",
              "9  10  Notwithstanding any provision of this Agreemen..."
            ]
          },
          "metadata": {},
          "execution_count": 32
        }
      ]
    },
    {
      "cell_type": "code",
      "source": [
        "sample_to_predict = np.array(test_data['Agreement'])"
      ],
      "metadata": {
        "id": "Xm_Afl9cqfSA"
      },
      "execution_count": null,
      "outputs": []
    },
    {
      "cell_type": "code",
      "source": [
        "predictions = model.predict(sample_to_predict)\n",
        "print(predictions)"
      ],
      "metadata": {
        "colab": {
          "base_uri": "https://localhost:8080/"
        },
        "id": "TR4bE5q-qyj_",
        "outputId": "78b630cf-6e70-44dc-8da1-ee597b4c6edb"
      },
      "execution_count": null,
      "outputs": [
        {
          "output_type": "stream",
          "name": "stdout",
          "text": [
            "[[0.8618604  0.00992487 0.12133747 0.00254627 0.00433098]\n",
            " [0.03849408 0.14648205 0.07644214 0.51242864 0.22615305]\n",
            " [0.05927369 0.16028744 0.13138396 0.41000006 0.23905486]\n",
            " [0.0656912  0.01938979 0.8879934  0.01247724 0.01444835]\n",
            " [0.01461334 0.10795821 0.05212627 0.07214797 0.75315416]\n",
            " [0.06447008 0.16872042 0.11722296 0.4432552  0.20633137]\n",
            " [0.02629248 0.15019293 0.10179945 0.08475128 0.6369639 ]\n",
            " [0.06024925 0.15830366 0.09414171 0.1144966  0.57280874]\n",
            " [0.37733695 0.09913436 0.36272058 0.08413789 0.07667019]\n",
            " [0.01604292 0.11441586 0.03776681 0.08102727 0.7507471 ]]\n"
          ]
        }
      ]
    },
    {
      "cell_type": "code",
      "source": [
        "labels = ['Preamble', 'Other', 'Indemnification', 'Governing Law', 'Lender Defaulting']"
      ],
      "metadata": {
        "id": "PqXt_uIQuT53"
      },
      "execution_count": null,
      "outputs": []
    },
    {
      "cell_type": "code",
      "source": [
        "myDict = {}\n",
        "for i in range(len(test_data['Agreement'])):\n",
        "  confidenceScore = {}\n",
        "  for j in range(5):\n",
        "    confidenceScore[labels[j]] = predictions[i][j]\n",
        "  myDict[i] = {'Agreement': test_data['Agreement'][i], 'Prediction': labels[int(np.argmax(predictions[i]))], 'Confidence': confidenceScore}"
      ],
      "metadata": {
        "id": "qIfO1zMwvbo0"
      },
      "execution_count": null,
      "outputs": []
    },
    {
      "cell_type": "code",
      "source": [
        "import json"
      ],
      "metadata": {
        "id": "jOygfJRavtqy"
      },
      "execution_count": null,
      "outputs": []
    },
    {
      "cell_type": "code",
      "source": [
        "print(myDict)\n",
        "out_file = open(\"/content/drive/MyDrive/Encipher/predictions.json\", \"w\") \n",
        "    \n",
        "json.dump(str(myDict), out_file, indent = 6) \n",
        "    \n",
        "out_file.close() "
      ],
      "metadata": {
        "colab": {
          "base_uri": "https://localhost:8080/"
        },
        "id": "LnGW_b76wG1s",
        "outputId": "6d8cb7e4-6549-491c-8da5-b7333511e7a9"
      },
      "execution_count": null,
      "outputs": [
        {
          "output_type": "stream",
          "name": "stdout",
          "text": [
            "{0: {'Agreement': 'Amendment No. 1 dated as of February 4, 2016 (this “Amendment No. 1”), to the Amendment and Restatement Agreement dated as of January 10, 2016 (the “Existing Restatement Agreement”), among GGG HOLDING (U.S.) INC., (the “Borrower”), CGG, a societe anonyme incorporated under the laws of France (“Parent”), the LENDERS from time to time party thereto and SUISSE AG, as Administrative Agent for the Lenders (in such capacity, “Administrative Agent”) and as Collateral Agent (“Collateral Agent”) for the Lenders.', 'Prediction': 'Preamble', 'Confidence': {'Preamble': 0.8618604, 'Other': 0.009924872, 'Indemnification': 0.12133747, 'Governing Law': 0.0025462722, 'Lender Defaulting': 0.0043309773}}, 1: {'Agreement': 'Subject to the Legal Reservations, (a) the choice of law specified in eachFinance Document as the governing law of such Finance Document will be recognized and enforced in its Relevant Jurisdictions and(b) any judgment obtained in New York (or in the jurisdiction of the governing law of such Finance Document) in relation to a Finance Document will be recognized and enforced in its Relevant Jurisdictions.', 'Prediction': 'Governing Law', 'Confidence': {'Preamble': 0.038494084, 'Other': 0.14648205, 'Indemnification': 0.076442145, 'Governing Law': 0.51242864, 'Lender Defaulting': 0.22615305}}, 2: {'Agreement': 'This Agreement, and any non-contractual obligations arising out of or in connection with it, shall be governed by, and construed in accordance with, English law.', 'Prediction': 'Governing Law', 'Confidence': {'Preamble': 0.059273694, 'Other': 0.16028744, 'Indemnification': 0.13138396, 'Governing Law': 0.41000006, 'Lender Defaulting': 0.23905486}}, 3: {'Agreement': 'Each Lender agrees to indemnify the Administrative Agent and hold it harmless, rateably according to its Applicable Percentage from and against any and all losses, claims, damages, liabilities and related expenses, including the fees, charges and disbursements of any counsel, which may be incurred by or asserted against the Administrative Agent in any way relating to or arising out of the Loan Documents or the transactions therein contemplated.', 'Prediction': 'Indemnification', 'Confidence': {'Preamble': 0.065691195, 'Other': 0.019389791, 'Indemnification': 0.8879934, 'Governing Law': 0.012477236, 'Lender Defaulting': 0.014448346}}, 4: {'Agreement': 'Any Lender that (a) has failed to (i) fund all or any portion of its Loans within two Business Days of the date such Loans were required to be funded hereunder (b) has notified any Borrower or the Administrative Agent in writing that it does not intend to comply with its funding obligations hereunder or (c) has failed, within three Business Days after written request by the Administrative Agent or the Company.', 'Prediction': 'Lender Defaulting', 'Confidence': {'Preamble': 0.014613341, 'Other': 0.10795821, 'Indemnification': 0.05212627, 'Governing Law': 0.072147965, 'Lender Defaulting': 0.75315416}}, 5: {'Agreement': 'This Assignment and Assumption shall be governed by, and construed in accordance with, the law governing the Credit Agreement.', 'Prediction': 'Governing Law', 'Confidence': {'Preamble': 0.06447008, 'Other': 0.16872042, 'Indemnification': 0.117222965, 'Governing Law': 0.4432552, 'Lender Defaulting': 0.20633137}}, 6: {'Agreement': 'As soon as practicable after any payment of Indemnified Taxes or Other Taxes by an Obligor to a Governmental Authority, the Obligor shall deliver to the Administrative Agent the original or a certified copy of a receipt issued by such Governmental Authority evidencing such payment, a copy of the return reporting such payment or other evidence of such payment reasonably satisfactory to the Administrative Agent.', 'Prediction': 'Lender Defaulting', 'Confidence': {'Preamble': 0.026292479, 'Other': 0.15019293, 'Indemnification': 0.10179945, 'Governing Law': 0.08475128, 'Lender Defaulting': 0.6369639}}, 7: {'Agreement': 'Non-Defaulting Lender means, at any time, each Lender that is not a Defaulting Lender at such time.', 'Prediction': 'Lender Defaulting', 'Confidence': {'Preamble': 0.060249247, 'Other': 0.15830366, 'Indemnification': 0.09414171, 'Governing Law': 0.1144966, 'Lender Defaulting': 0.57280874}}, 8: {'Agreement': 'Fundco Facility Agreement means the facility agreement dated on or about the date of this Agreement and made between Fundco and the Initial Lenders (as defined in the Fundco Facility Agreement and including the Borrower) and Devco;', 'Prediction': 'Preamble', 'Confidence': {'Preamble': 0.37733695, 'Other': 0.099134356, 'Indemnification': 0.36272058, 'Governing Law': 0.084137894, 'Lender Defaulting': 0.07667019}}, 9: {'Agreement': 'Notwithstanding any provision of this Agreement to the contrary, if any Lender becomes a Defaulting Lender, then, to the fullest extent permitted by applicable law, the following provisions shall apply for so long as such Lender is a Defaulting Lender', 'Prediction': 'Lender Defaulting', 'Confidence': {'Preamble': 0.016042918, 'Other': 0.11441586, 'Indemnification': 0.03776681, 'Governing Law': 0.08102727, 'Lender Defaulting': 0.7507471}}}\n"
          ]
        }
      ]
    }
  ]
}